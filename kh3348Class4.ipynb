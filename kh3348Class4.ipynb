{
  "cells": [
    {
      "cell_type": "markdown",
      "source": [
        "WhoAmI"
      ],
      "metadata": {
        "id": "_XedCI8Pd4LK"
      }
    },
    {
      "cell_type": "code",
      "source": [
        "#Identify yourself for grading\n",
        "def WhoAmI():\n",
        "  return('kh3348')"
      ],
      "metadata": {
        "id": "JCa18RF_bpDw"
      },
      "execution_count": null,
      "outputs": []
    },
    {
      "cell_type": "markdown",
      "source": [
        "GetBondPrice"
      ],
      "metadata": {
        "id": "aCARyWrmeH8a"
      }
    },
    {
      "cell_type": "code",
      "source": [
        "def getBondPrice(y,face,couponRate,m,ppy=1):\n",
        "  C=(face*couponRate)/ppy\n",
        "  N=m*ppy\n",
        "  pv_coupons=sum([C/(1+y/ppy)**(t) for t in range(1,N+1)])\n",
        "  pv_face=face/(1+y/ppy)**N\n",
        "  bondPrice=pv_coupons+pv_face\n",
        "  return (bondPrice)\n",
        "\n",
        "#Test Values\n",
        "y=0.03\n",
        "face=2000000\n",
        "couponRate=0.04\n",
        "m=10\n",
        "ppy=1\n",
        "ppy=2\n",
        "\n",
        "getBondPrice(y,face,couponRate,m,ppy)"
      ],
      "metadata": {
        "id": "4RijSn8dd1uA",
        "outputId": "72aabea0-6588-4a59-c4dd-715e5ced3a4f",
        "colab": {
          "base_uri": "https://localhost:8080/"
        }
      },
      "execution_count": 1,
      "outputs": [
        {
          "output_type": "execute_result",
          "data": {
            "text/plain": [
              "2171686.387850823"
            ]
          },
          "metadata": {},
          "execution_count": 1
        }
      ]
    },
    {
      "cell_type": "markdown",
      "source": [
        "GetBondDuration"
      ],
      "metadata": {
        "id": "2xIuaVyslzfm"
      }
    },
    {
      "cell_type": "code",
      "source": [
        "def getBondDuration(y,face,couponRate,m,ppy=1):\n",
        "  C=(face*couponRate)/ppy\n",
        "  N=m*ppy\n",
        "  pvcf_t=sum([(t/ppy)* (C/(1+y/ppy)**t) for t in range(1,N+1)])\n",
        "  pv_face_t= (N/ppy)* (face/(1+y/ppy)** N)\n",
        "  weighted_sum = pvcf_t+pv_face_t\n",
        "  pv_coupons=pvcf_t+pv_face_t\n",
        "  bondPrice=sum([C/(1+y/ppy)**t for t in range (1,N+1)])+face/(1+y/ppy)**N\n",
        "  bondDuration=weighted_sum/bondPrice\n",
        "  return (bondDuration)\n",
        "\n",
        "# Test values\n",
        "y=0.03\n",
        "face=2000000\n",
        "couponRate=0.04\n",
        "m=10\n",
        "ppy=1\n",
        "\n",
        "getBondDuration(y,face,couponRate,m,ppy)"
      ],
      "metadata": {
        "id": "A8H2z36rhMiS",
        "outputId": "9c352791-3233-473b-c809-719d5750faa9",
        "colab": {
          "base_uri": "https://localhost:8080/"
        }
      },
      "execution_count": null,
      "outputs": [
        {
          "output_type": "execute_result",
          "data": {
            "text/plain": [
              "8.508690304459574"
            ]
          },
          "metadata": {},
          "execution_count": 23
        }
      ]
    },
    {
      "cell_type": "markdown",
      "source": [
        "GetBondPrice_Enumerate"
      ],
      "metadata": {
        "id": "24NQ7j3rl6Zi"
      }
    },
    {
      "cell_type": "code",
      "source": [
        "def getBondPrice_E(face,couponRate,m,yc):\n",
        "  C=face*couponRate\n",
        "  pv_coupons=sum(C/(1+yc_t)** (t+1)for t, yc_t in enumerate(yc))\n",
        "  pv_face=face/(1+yc[-1])**m\n",
        "  bondPrice=pv_coupons+pv_face\n",
        "  return (bondPrice)\n",
        "\n",
        "#test Values\n",
        "yc=[0.010,0.015,0.020,0.025,0.030]\n",
        "face=2000000\n",
        "couponRate=0.04\n",
        "m=5\n",
        "\n",
        "getBondPrice_E(face,couponRate,m,yc)\n"
      ],
      "metadata": {
        "id": "w2LeGjQrmDrn",
        "outputId": "7af6faac-6499-4108-ec6b-8b020e399344",
        "colab": {
          "base_uri": "https://localhost:8080/"
        }
      },
      "execution_count": null,
      "outputs": [
        {
          "output_type": "execute_result",
          "data": {
            "text/plain": [
              "2098948.9705506554"
            ]
          },
          "metadata": {},
          "execution_count": 25
        }
      ]
    },
    {
      "cell_type": "markdown",
      "source": [
        "getBondPrice_Z"
      ],
      "metadata": {
        "id": "vAp26fmWnFAJ"
      }
    },
    {
      "cell_type": "code",
      "source": [
        "def getBondPrice_Z(face,couponRate,times,yc):\n",
        "  C=face*couponRate\n",
        "  pv_coupons=sum(C/(1+rate)** t for t, rate in zip(times,yc))\n",
        "  pv_face=face/(1+yc[-1])** times[-1]\n",
        "  bondPrice=pv_coupons+pv_face\n",
        "  return (bondPrice)\n",
        "\n",
        "#test values\n",
        "yc=[0.010,0.015,0.020,0.025,0.030]\n",
        "times=[1,1.5,3,4,7]\n",
        "face=2000000\n",
        "couponRate=0.04\n",
        "\n",
        "getBondPrice_Z(face,couponRate,times,yc)"
      ],
      "metadata": {
        "id": "kaiRGWOJnIH2",
        "outputId": "5dda5510-e5c8-4ca6-e446-7c029a065d62",
        "colab": {
          "base_uri": "https://localhost:8080/"
        }
      },
      "execution_count": null,
      "outputs": [
        {
          "output_type": "execute_result",
          "data": {
            "text/plain": [
              "1996533.2719139736"
            ]
          },
          "metadata": {},
          "execution_count": 48
        }
      ]
    },
    {
      "cell_type": "markdown",
      "source": [
        "fizzbuzz"
      ],
      "metadata": {
        "id": "QovXRIqmokLm"
      }
    },
    {
      "cell_type": "code",
      "source": [
        "def FizzBuzz(start,finish):\n",
        "    outlist=[]\n",
        "    for i in range(start,finish+1):\n",
        "        if i%3==0 and i%5==0:\n",
        "            outlist.append('FizzBuzz')\n",
        "        elif i%3==0:\n",
        "            outlist.append('Fizz')\n",
        "        elif i%5==0:\n",
        "            outlist.append('Buzz')\n",
        "        else:\n",
        "            outlist.append(i)\n",
        "    return outlist\n",
        "\n",
        "#test case\n",
        "FizzBuzz(1,15)"
      ],
      "metadata": {
        "id": "eETXqKM_olaI",
        "outputId": "79134b80-aac8-429d-edef-6e0c48a34f4f",
        "colab": {
          "base_uri": "https://localhost:8080/"
        }
      },
      "execution_count": null,
      "outputs": [
        {
          "output_type": "execute_result",
          "data": {
            "text/plain": [
              "[1,\n",
              " 2,\n",
              " 'Fizz',\n",
              " 4,\n",
              " 'Buzz',\n",
              " 'Fizz',\n",
              " 7,\n",
              " 8,\n",
              " 'Fizz',\n",
              " 'Buzz',\n",
              " 11,\n",
              " 'Fizz',\n",
              " 13,\n",
              " 14,\n",
              " 'FizzBuzz']"
            ]
          },
          "metadata": {},
          "execution_count": 53
        }
      ]
    }
  ],
  "metadata": {
    "colab": {
      "toc_visible": true,
      "provenance": []
    },
    "kernelspec": {
      "display_name": "Python 3",
      "name": "python3"
    }
  },
  "nbformat": 4,
  "nbformat_minor": 0
}